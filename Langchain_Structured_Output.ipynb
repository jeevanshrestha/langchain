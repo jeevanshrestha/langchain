{
  "nbformat": 4,
  "nbformat_minor": 0,
  "metadata": {
    "colab": {
      "provenance": [],
      "collapsed_sections": [
        "_dc1LWznPydS"
      ],
      "authorship_tag": "ABX9TyMs4jyNmRrqFxJfmr0NFtS2",
      "include_colab_link": true
    },
    "kernelspec": {
      "name": "python3",
      "display_name": "Python 3"
    },
    "language_info": {
      "name": "python"
    }
  },
  "cells": [
    {
      "cell_type": "markdown",
      "metadata": {
        "id": "view-in-github",
        "colab_type": "text"
      },
      "source": [
        "<a href=\"https://colab.research.google.com/github/jeevanshrestha/langchain/blob/main/Langchain_Structured_Output.ipynb\" target=\"_parent\"><img src=\"https://colab.research.google.com/assets/colab-badge.svg\" alt=\"Open In Colab\"/></a>"
      ]
    },
    {
      "cell_type": "markdown",
      "source": [
        "## Langchain Structured Output"
      ],
      "metadata": {
        "id": "3sNFpkxjO8Jx"
      }
    },
    {
      "cell_type": "markdown",
      "source": [
        "### Initial Setup"
      ],
      "metadata": {
        "id": "_dc1LWznPydS"
      }
    },
    {
      "cell_type": "markdown",
      "source": [
        "#### Install Required Libraries\n"
      ],
      "metadata": {
        "id": "JtMcZrah3tho"
      }
    },
    {
      "cell_type": "code",
      "execution_count": null,
      "metadata": {
        "id": "81A3knUidnaM",
        "colab": {
          "base_uri": "https://localhost:8080/"
        },
        "outputId": "b85cf88f-9b50-45be-a270-450dac4be40d"
      },
      "outputs": [
        {
          "output_type": "stream",
          "name": "stdout",
          "text": [
            "\u001b[?25l     \u001b[90m━━━━━━━━━━━━━━━━━━━━━━━━━━━━━━━━━━━━━━━━\u001b[0m \u001b[32m0.0/981.5 kB\u001b[0m \u001b[31m?\u001b[0m eta \u001b[36m-:--:--\u001b[0m\r\u001b[2K     \u001b[91m━━━━━━━━━━━━━━━━━━━━━━━━━━━━━━━━━━\u001b[0m\u001b[90m╺\u001b[0m\u001b[90m━━━\u001b[0m \u001b[32m880.6/981.5 kB\u001b[0m \u001b[31m26.5 MB/s\u001b[0m eta \u001b[36m0:00:01\u001b[0m\r\u001b[2K     \u001b[90m━━━━━━━━━━━━━━━━━━━━━━━━━━━━━━━━━━━━━━\u001b[0m \u001b[32m981.5/981.5 kB\u001b[0m \u001b[31m15.6 MB/s\u001b[0m eta \u001b[36m0:00:00\u001b[0m\n",
            "\u001b[?25h  Preparing metadata (setup.py) ... \u001b[?25l\u001b[?25hdone\n",
            "\u001b[2K   \u001b[90m━━━━━━━━━━━━━━━━━━━━━━━━━━━━━━━━━━━━━━━━\u001b[0m \u001b[32m2.5/2.5 MB\u001b[0m \u001b[31m47.4 MB/s\u001b[0m eta \u001b[36m0:00:00\u001b[0m\n",
            "\u001b[2K   \u001b[90m━━━━━━━━━━━━━━━━━━━━━━━━━━━━━━━━━━━━━━━━\u001b[0m \u001b[32m65.4/65.4 kB\u001b[0m \u001b[31m3.3 MB/s\u001b[0m eta \u001b[36m0:00:00\u001b[0m\n",
            "\u001b[2K   \u001b[90m━━━━━━━━━━━━━━━━━━━━━━━━━━━━━━━━━━━━━━━━\u001b[0m \u001b[32m1.8/1.8 MB\u001b[0m \u001b[31m48.1 MB/s\u001b[0m eta \u001b[36m0:00:00\u001b[0m\n",
            "\u001b[2K   \u001b[90m━━━━━━━━━━━━━━━━━━━━━━━━━━━━━━━━━━━━━━━━\u001b[0m \u001b[32m31.3/31.3 MB\u001b[0m \u001b[31m21.6 MB/s\u001b[0m eta \u001b[36m0:00:00\u001b[0m\n",
            "\u001b[2K   \u001b[90m━━━━━━━━━━━━━━━━━━━━━━━━━━━━━━━━━━━━━━━━\u001b[0m \u001b[32m44.4/44.4 kB\u001b[0m \u001b[31m1.8 MB/s\u001b[0m eta \u001b[36m0:00:00\u001b[0m\n",
            "\u001b[2K   \u001b[90m━━━━━━━━━━━━━━━━━━━━━━━━━━━━━━━━━━━━━━━━\u001b[0m \u001b[32m590.6/590.6 kB\u001b[0m \u001b[31m26.3 MB/s\u001b[0m eta \u001b[36m0:00:00\u001b[0m\n",
            "\u001b[2K   \u001b[90m━━━━━━━━━━━━━━━━━━━━━━━━━━━━━━━━━━━━━━━━\u001b[0m \u001b[32m167.6/167.6 kB\u001b[0m \u001b[31m8.3 MB/s\u001b[0m eta \u001b[36m0:00:00\u001b[0m\n",
            "\u001b[2K   \u001b[90m━━━━━━━━━━━━━━━━━━━━━━━━━━━━━━━━━━━━━━━━\u001b[0m \u001b[32m3.1/3.1 MB\u001b[0m \u001b[31m49.8 MB/s\u001b[0m eta \u001b[36m0:00:00\u001b[0m\n",
            "\u001b[2K   \u001b[90m━━━━━━━━━━━━━━━━━━━━━━━━━━━━━━━━━━━━━━━━\u001b[0m \u001b[32m195.8/195.8 kB\u001b[0m \u001b[31m10.7 MB/s\u001b[0m eta \u001b[36m0:00:00\u001b[0m\n",
            "\u001b[2K   \u001b[90m━━━━━━━━━━━━━━━━━━━━━━━━━━━━━━━━━━━━━━━━\u001b[0m \u001b[32m50.9/50.9 kB\u001b[0m \u001b[31m2.9 MB/s\u001b[0m eta \u001b[36m0:00:00\u001b[0m\n",
            "\u001b[2K   \u001b[90m━━━━━━━━━━━━━━━━━━━━━━━━━━━━━━━━━━━━━━━━\u001b[0m \u001b[32m304.2/304.2 kB\u001b[0m \u001b[31m14.6 MB/s\u001b[0m eta \u001b[36m0:00:00\u001b[0m\n",
            "\u001b[2K   \u001b[90m━━━━━━━━━━━━━━━━━━━━━━━━━━━━━━━━━━━━━━━━\u001b[0m \u001b[32m114.6/114.6 kB\u001b[0m \u001b[31m6.2 MB/s\u001b[0m eta \u001b[36m0:00:00\u001b[0m\n",
            "\u001b[?25h  Building wheel for langdetect (setup.py) ... \u001b[?25l\u001b[?25hdone\n"
          ]
        }
      ],
      "source": [
        "!pip install openai langchain langchain-community langchain-openai unstructured faiss-cpu -q"
      ]
    },
    {
      "cell_type": "markdown",
      "source": [
        "#### Mount Google Driev"
      ],
      "metadata": {
        "id": "7nHczpwv3qjx"
      }
    },
    {
      "cell_type": "code",
      "source": [
        "# Mount Google Drive to access files\n",
        "from google.colab import drive\n",
        "drive.mount('/content/drive')"
      ],
      "metadata": {
        "colab": {
          "base_uri": "https://localhost:8080/"
        },
        "id": "ZdPti1sleYn-",
        "outputId": "4ae09a26-b806-4fad-a6ca-49878123d600"
      },
      "execution_count": null,
      "outputs": [
        {
          "output_type": "stream",
          "name": "stdout",
          "text": [
            "Mounted at /content/drive\n"
          ]
        }
      ]
    },
    {
      "cell_type": "code",
      "execution_count": null,
      "metadata": {
        "id": "neyTrjSJ3IpB"
      },
      "outputs": [],
      "source": [
        "#set working directory\n",
        "import os\n",
        "os.chdir('/content/drive/MyDrive/GenAI/RAG/')"
      ]
    },
    {
      "cell_type": "markdown",
      "source": [
        "#### OpenAI Key Setup"
      ],
      "metadata": {
        "id": "ErfzayOVogkP"
      }
    },
    {
      "cell_type": "code",
      "source": [
        "from google.colab import userdata\n",
        "api_key = userdata.get('genai_course')"
      ],
      "metadata": {
        "id": "kgYZyIN6eQ4-"
      },
      "execution_count": null,
      "outputs": []
    },
    {
      "cell_type": "markdown",
      "source": [
        "#### Import Libraries\n"
      ],
      "metadata": {
        "id": "F5XBRsoQ34NR"
      }
    },
    {
      "cell_type": "code",
      "execution_count": null,
      "metadata": {
        "id": "m4IOOMEhF2GK"
      },
      "outputs": [],
      "source": [
        "#Import the libraries\n",
        "from langchain.document_loaders import UnstructuredExcelLoader\n",
        "from langchain.text_splitter import RecursiveCharacterTextSplitter\n",
        "from langchain_openai import ChatOpenAI, OpenAIEmbeddings\n",
        "from langchain.vectorstores.faiss import FAISS\n",
        "from IPython.display import display, Markdown\n",
        "import json\n",
        "import numpy as np\n",
        "import pandas as pd"
      ]
    },
    {
      "cell_type": "code",
      "source": [
        "print(os.getcwd())"
      ],
      "metadata": {
        "colab": {
          "base_uri": "https://localhost:8080/"
        },
        "id": "cYoBiSuwGanC",
        "outputId": "be0281a2-4af8-4de1-9e56-bf0f48897246"
      },
      "execution_count": null,
      "outputs": [
        {
          "output_type": "stream",
          "name": "stdout",
          "text": [
            "/content/drive/MyDrive/GenAI/RAG\n"
          ]
        }
      ]
    },
    {
      "cell_type": "markdown",
      "source": [
        "### Structured Output TypeDict"
      ],
      "metadata": {
        "id": "K5Qo4SaRZdk0"
      }
    },
    {
      "cell_type": "code",
      "source": [
        "from langchain_openai import ChatOpenAI\n",
        "from dotenv import load_dotenv\n",
        "from typing import TypedDict, Annotated, Optional, Literal\n",
        "from IPython.display import display, Markdown\n",
        "\n",
        "model = ChatOpenAI(model=\"gpt-4o-mini\",api_key = api_key)\n",
        "\n",
        "# schema\n",
        "class Review(TypedDict):\n",
        "\n",
        "    key_themes: Annotated[list[str], \"Write down all the key themes discussed in the review in a list\"]\n",
        "    summary: Annotated[str, \"A brief summary of the review\"]\n",
        "    sentiment: Annotated[Literal[\"pos\", \"neg\"], \"Return sentiment of the review either negative, positive or neutral\"]\n",
        "    pros: Annotated[Optional[list[str]], \"Write down all the pros inside a list\"]\n",
        "    cons: Annotated[Optional[list[str]], \"Write down all the cons inside a list\"]\n",
        "    name: Annotated[Optional[str], \"Write the name of the reviewer\"]\n",
        "\n",
        "\n",
        "structured_model = model.with_structured_output(Review)\n",
        "\n",
        "result = structured_model.invoke(\"\"\"I recently upgraded to the Samsung Galaxy S24 Ultra, and I must say, it’s an absolute powerhouse! The Snapdragon 8 Gen 3 processor makes everything lightning fast—whether I’m gaming, multitasking, or editing photos. The 5000mAh battery easily lasts a full day even with heavy use, and the 45W fast charging is a lifesaver.\n",
        "\n",
        "The S-Pen integration is a great touch for note-taking and quick sketches, though I don't use it often. What really blew me away is the 200MP camera—the night mode is stunning, capturing crisp, vibrant images even in low light. Zooming up to 100x actually works well for distant objects, but anything beyond 30x loses quality.\n",
        "\n",
        "However, the weight and size make it a bit uncomfortable for one-handed use. Also, Samsung’s One UI still comes with bloatware—why do I need five different Samsung apps for things Google already provides? The $1,300 price tag is also a hard pill to swallow.\n",
        "\n",
        "Pros:\n",
        "Insanely powerful processor (great for gaming and productivity)\n",
        "Stunning 200MP camera with incredible zoom capabilities\n",
        "Long battery life with fast charging\n",
        "S-Pen support is unique and useful\n",
        "\n",
        "Review by Nitish Singh\n",
        "\"\"\")"
      ],
      "metadata": {
        "id": "0Bw4kx5JZhcY"
      },
      "execution_count": null,
      "outputs": []
    },
    {
      "cell_type": "code",
      "source": [
        "result"
      ],
      "metadata": {
        "colab": {
          "base_uri": "https://localhost:8080/"
        },
        "id": "P1hwRTg7ZmZT",
        "outputId": "c3520d8b-52be-4346-9a8e-734bbaf69786"
      },
      "execution_count": null,
      "outputs": [
        {
          "output_type": "execute_result",
          "data": {
            "text/plain": [
              "{'name': 'Nitish Singh',\n",
              " 'summary': \"The Samsung Galaxy S24 Ultra is an exceptional device powered by the Snapdragon 8 Gen 3 processor, offering impressive performance across various tasks. The camera's 200MP capability stands out, though the device has some drawbacks like its weight and bloatware.\",\n",
              " 'sentiment': 'pos',\n",
              " 'pros': ['Insanely powerful processor (great for gaming and productivity)',\n",
              "  'Stunning 200MP camera with incredible zoom capabilities',\n",
              "  'Long battery life with fast charging',\n",
              "  'S-Pen support is unique and useful'],\n",
              " 'cons': ['A bit heavy and large for one-handed use',\n",
              "  'Presence of bloatware from Samsung',\n",
              "  'High price point of $1,300'],\n",
              " 'key_themes': ['Performance',\n",
              "  'Camera Quality',\n",
              "  'Battery Life',\n",
              "  'Usability',\n",
              "  'Software Experience']}"
            ]
          },
          "metadata": {},
          "execution_count": 11
        }
      ]
    },
    {
      "cell_type": "code",
      "source": [],
      "metadata": {
        "id": "_Kg7YlThac6r"
      },
      "execution_count": null,
      "outputs": []
    },
    {
      "cell_type": "markdown",
      "source": [
        "### Structured Output JSON"
      ],
      "metadata": {
        "id": "E6Vj9hckao0S"
      }
    },
    {
      "cell_type": "code",
      "source": [
        "from langchain_openai import ChatOpenAI\n",
        "from dotenv import load_dotenv\n",
        "from typing import TypedDict, Annotated, Optional, Literal\n",
        "from IPython.display import display, Markdown\n",
        "\n",
        "model = ChatOpenAI(model=\"gpt-4o-mini\",api_key = api_key)\n",
        "\n",
        "# schema\n",
        "json_schema = {\n",
        "  \"title\": \"Review\",\n",
        "  \"type\": \"object\",\n",
        "  \"properties\": {\n",
        "    \"key_themes\": {\n",
        "      \"type\": \"array\",\n",
        "      \"items\": {\n",
        "        \"type\": \"string\"\n",
        "      },\n",
        "      \"description\": \"Write down all the key themes discussed in the review in a list\"\n",
        "    },\n",
        "    \"summary\": {\n",
        "      \"type\": \"string\",\n",
        "      \"description\": \"A brief summary of the review\"\n",
        "    },\n",
        "    \"sentiment\": {\n",
        "      \"type\": \"string\",\n",
        "      \"enum\": [\"pos\", \"neg\"],\n",
        "      \"description\": \"Return sentiment of the review either negative, positive or neutral\"\n",
        "    },\n",
        "    \"pros\": {\n",
        "      \"type\": [\"array\", \"null\"],\n",
        "      \"items\": {\n",
        "        \"type\": \"string\"\n",
        "      },\n",
        "      \"description\": \"Write down all the pros inside a list\"\n",
        "    },\n",
        "    \"cons\": {\n",
        "      \"type\": [\"array\", \"null\"],\n",
        "      \"items\": {\n",
        "        \"type\": \"string\"\n",
        "      },\n",
        "      \"description\": \"Write down all the cons inside a list\"\n",
        "    },\n",
        "    \"name\": {\n",
        "      \"type\": [\"string\", \"null\"],\n",
        "      \"description\": \"Write the name of the reviewer\"\n",
        "    }\n",
        "  },\n",
        "  \"required\": [\"key_themes\", \"summary\", \"sentiment\"]\n",
        "}\n",
        "\n",
        "\n",
        "structured_model = model.with_structured_output(json_schema)\n",
        "\n",
        "result_json = structured_model.invoke(\"\"\"I recently upgraded to the Samsung Galaxy S24 Ultra, and I must say, it’s an absolute powerhouse! The Snapdragon 8 Gen 3 processor makes everything lightning fast—whether I’m gaming, multitasking, or editing photos. The 5000mAh battery easily lasts a full day even with heavy use, and the 45W fast charging is a lifesaver.\n",
        "\n",
        "The S-Pen integration is a great touch for note-taking and quick sketches, though I don't use it often. What really blew me away is the 200MP camera—the night mode is stunning, capturing crisp, vibrant images even in low light. Zooming up to 100x actually works well for distant objects, but anything beyond 30x loses quality.\n",
        "\n",
        "However, the weight and size make it a bit uncomfortable for one-handed use. Also, Samsung’s One UI still comes with bloatware—why do I need five different Samsung apps for things Google already provides? The $1,300 price tag is also a hard pill to swallow.\n",
        "\n",
        "Pros:\n",
        "Insanely powerful processor (great for gaming and productivity)\n",
        "Stunning 200MP camera with incredible zoom capabilities\n",
        "Long battery life with fast charging\n",
        "S-Pen support is unique and useful\n",
        "\n",
        "Review by Nitish Singh\n",
        "\"\"\")\n"
      ],
      "metadata": {
        "id": "BG9-cAKGaqno"
      },
      "execution_count": null,
      "outputs": []
    },
    {
      "cell_type": "code",
      "source": [
        "result_json"
      ],
      "metadata": {
        "colab": {
          "base_uri": "https://localhost:8080/"
        },
        "id": "f6JDbwqra4lh",
        "outputId": "a3562495-c415-4eb9-c3f1-823145407602"
      },
      "execution_count": null,
      "outputs": [
        {
          "output_type": "execute_result",
          "data": {
            "text/plain": [
              "{'summary': 'Nitish Singh shares a positive review of the Samsung Galaxy S24 Ultra, highlighting its powerful performance, exceptional camera, and good battery life, though he notes some drawbacks such as size, bloatware, and high price.',\n",
              " 'sentiment': 'pos',\n",
              " 'pros': ['Insanely powerful processor (great for gaming and productivity)',\n",
              "  'Stunning 200MP camera with incredible zoom capabilities',\n",
              "  'Long battery life with fast charging',\n",
              "  'S-Pen support is unique and useful'],\n",
              " 'cons': ['Heavy and uncomfortable for one-handed use',\n",
              "  'Bloatware from Samsung apps',\n",
              "  'High price tag of $1,300'],\n",
              " 'key_themes': ['Performance',\n",
              "  'Camera Quality',\n",
              "  'Battery Life',\n",
              "  'S-Pen Integration',\n",
              "  'Bloatware',\n",
              "  'Size and Weight',\n",
              "  'Price'],\n",
              " 'name': 'Nitish Singh'}"
            ]
          },
          "metadata": {},
          "execution_count": 15
        }
      ]
    },
    {
      "cell_type": "markdown",
      "source": [
        "### Structued Output Pydantic"
      ],
      "metadata": {
        "id": "1g4_YgjzbQAW"
      }
    },
    {
      "cell_type": "code",
      "source": [
        "from langchain_openai import ChatOpenAI\n",
        "from dotenv import load_dotenv\n",
        "from typing import TypedDict, Annotated, Optional, Literal\n",
        "from pydantic import BaseModel, Field\n",
        "load_dotenv()\n",
        "model = ChatOpenAI(model=\"gpt-4o-mini\",api_key = api_key)\n",
        "\n",
        "# schema\n",
        "class Review(BaseModel):\n",
        "\n",
        "    key_themes: list[str] = Field(description=\"Write down all the key themes discussed in the review in a list\")\n",
        "    summary: str = Field(description=\"A brief summary of the review\")\n",
        "    sentiment: Literal[\"pos\", \"neg\"] = Field(description=\"Return sentiment of the review either negative, positive or neutral\")\n",
        "    pros: Optional[list[str]] = Field(default=None, description=\"Write down all the pros inside a list\")\n",
        "    cons: Optional[list[str]] = Field(default=None, description=\"Write down all the cons inside a list\")\n",
        "    name: Optional[str] = Field(default=None, description=\"Write the name of the reviewer\")\n",
        "\n",
        "\n",
        "structured_model = model.with_structured_output(Review)\n",
        "\n",
        "result_pydantic = structured_model.invoke(\"\"\"I recently upgraded to the Samsung Galaxy S24 Ultra, and I must say, it’s an absolute powerhouse! The Snapdragon 8 Gen 3 processor makes everything lightning fast—whether I’m gaming, multitasking, or editing photos. The 5000mAh battery easily lasts a full day even with heavy use, and the 45W fast charging is a lifesaver.\n",
        "\n",
        "The S-Pen integration is a great touch for note-taking and quick sketches, though I don't use it often. What really blew me away is the 200MP camera—the night mode is stunning, capturing crisp, vibrant images even in low light. Zooming up to 100x actually works well for distant objects, but anything beyond 30x loses quality.\n",
        "\n",
        "However, the weight and size make it a bit uncomfortable for one-handed use. Also, Samsung’s One UI still comes with bloatware—why do I need five different Samsung apps for things Google already provides? The $1,300 price tag is also a hard pill to swallow.\n",
        "\n",
        "Pros:\n",
        "Insanely powerful processor (great for gaming and productivity)\n",
        "Stunning 200MP camera with incredible zoom capabilities\n",
        "Long battery life with fast charging\n",
        "S-Pen support is unique and useful\n",
        "\n",
        "Review by Nitish Singh\n",
        "\"\"\")\n"
      ],
      "metadata": {
        "id": "QnRgCmE3bScs"
      },
      "execution_count": null,
      "outputs": []
    },
    {
      "cell_type": "code",
      "source": [
        "result_pydantic.model_dump_json()"
      ],
      "metadata": {
        "colab": {
          "base_uri": "https://localhost:8080/",
          "height": 87
        },
        "id": "13JlXhEBbiQL",
        "outputId": "a657c115-d261-43ec-92eb-a31119679174"
      },
      "execution_count": null,
      "outputs": [
        {
          "output_type": "execute_result",
          "data": {
            "text/plain": [
              "'{\"key_themes\":[\"Performance\",\"Camera Quality\",\"Battery Life\",\"S-Pen Functionality\",\"Size and Weight\",\"User Interface\",\"Price\"],\"summary\":\"The Samsung Galaxy S24 Ultra is a powerful device with an impressive camera, long battery life, and fast performance, but its size, weight, and bloatware issues may be drawbacks for some users.\",\"sentiment\":\"pos\",\"pros\":[\"Insanely powerful processor (great for gaming and productivity)\",\"Stunning 200MP camera with incredible zoom capabilities\",\"Long battery life with fast charging\",\"S-Pen support is unique and useful\"],\"cons\":[\"Uncomfortable for one-handed use due to weight and size\",\"Presence of bloatware applications\",\"High price tag of $1,300\"],\"name\":\"Nitish Singh\"}'"
            ],
            "application/vnd.google.colaboratory.intrinsic+json": {
              "type": "string"
            }
          },
          "metadata": {},
          "execution_count": 18
        }
      ]
    },
    {
      "cell_type": "markdown",
      "source": [
        "### Structured Output llama"
      ],
      "metadata": {
        "id": "v0B2LgzVbuE4"
      }
    },
    {
      "cell_type": "code",
      "source": [
        "!pip install   langchain_huggingface -q"
      ],
      "metadata": {
        "id": "oO8SHfv6b8hF"
      },
      "execution_count": null,
      "outputs": []
    },
    {
      "cell_type": "code",
      "source": [
        "from dotenv import load_dotenv\n",
        "from typing import Optional, Literal\n",
        "from pydantic import BaseModel, Field\n",
        "from langchain_huggingface import ChatHuggingFace, HuggingFaceEndpoint\n",
        "\n",
        "load_dotenv()\n",
        "\n",
        "llm = HuggingFaceEndpoint(\n",
        "    repo_id=\"meta-llama/Llama-3.1-8B-Instruct\",\n",
        "    task=\"text-generation\"\n",
        ")\n",
        "\n",
        "model = ChatHuggingFace(llm=llm)\n",
        "\n",
        "# schema\n",
        "class Review(BaseModel):\n",
        "\n",
        "    key_themes: list[str] = Field(description=\"Write down all the key themes discussed in the review in a list\")\n",
        "    summary: str = Field(description=\"A brief summary of the review\")\n",
        "    sentiment: Literal[\"pos\", \"neg\"] = Field(description=\"Return sentiment of the review either negative, positive or neutral\")\n",
        "    pros: Optional[list[str]] = Field(default=None, description=\"Write down all the pros inside a list\")\n",
        "    cons: Optional[list[str]] = Field(default=None, description=\"Write down all the cons inside a list\")\n",
        "    name: Optional[str] = Field(default=None, description=\"Write the name of the reviewer\")\n",
        "\n",
        "\n",
        "structured_model = model.with_structured_output(Review)\n",
        "\n",
        "result_llama = structured_model.invoke(\"\"\"I recently upgraded to the Samsung Galaxy S24 Ultra, and I must say, it’s an absolute powerhouse! The Snapdragon 8 Gen 3 processor makes everything lightning fast—whether I’m gaming, multitasking, or editing photos. The 5000mAh battery easily lasts a full day even with heavy use, and the 45W fast charging is a lifesaver.\n",
        "\n",
        "The S-Pen integration is a great touch for note-taking and quick sketches, though I don't use it often. What really blew me away is the 200MP camera—the night mode is stunning, capturing crisp, vibrant images even in low light. Zooming up to 100x actually works well for distant objects, but anything beyond 30x loses quality.\n",
        "\n",
        "However, the weight and size make it a bit uncomfortable for one-handed use. Also, Samsung’s One UI still comes with bloatware—why do I need five different Samsung apps for things Google already provides? The $1,300 price tag is also a hard pill to swallow.\n",
        "\n",
        "Pros:\n",
        "Insanely powerful processor (great for gaming and productivity)\n",
        "Stunning 200MP camera with incredible zoom capabilities\n",
        "Long battery life with fast charging\n",
        "S-Pen support is unique and useful\n",
        "\n",
        "Review by Nitish Singh\n",
        "\"\"\")\n"
      ],
      "metadata": {
        "colab": {
          "base_uri": "https://localhost:8080/",
          "height": 349
        },
        "id": "MN-N2KAebyb4",
        "outputId": "99eefbe7-3c1e-4caa-9447-737ac37ebee1"
      },
      "execution_count": null,
      "outputs": [
        {
          "output_type": "error",
          "ename": "NotImplementedError",
          "evalue": "Pydantic schema is not supported for function calling",
          "traceback": [
            "\u001b[0;31m---------------------------------------------------------------------------\u001b[0m",
            "\u001b[0;31mNotImplementedError\u001b[0m                       Traceback (most recent call last)",
            "\u001b[0;32m<ipython-input-21-1340777488>\u001b[0m in \u001b[0;36m<cell line: 0>\u001b[0;34m()\u001b[0m\n\u001b[1;32m     24\u001b[0m \u001b[0;34m\u001b[0m\u001b[0m\n\u001b[1;32m     25\u001b[0m \u001b[0;34m\u001b[0m\u001b[0m\n\u001b[0;32m---> 26\u001b[0;31m \u001b[0mstructured_model\u001b[0m \u001b[0;34m=\u001b[0m \u001b[0mmodel\u001b[0m\u001b[0;34m.\u001b[0m\u001b[0mwith_structured_output\u001b[0m\u001b[0;34m(\u001b[0m\u001b[0mReview\u001b[0m\u001b[0;34m)\u001b[0m\u001b[0;34m\u001b[0m\u001b[0;34m\u001b[0m\u001b[0m\n\u001b[0m\u001b[1;32m     27\u001b[0m \u001b[0;34m\u001b[0m\u001b[0m\n\u001b[1;32m     28\u001b[0m result_llama = structured_model.invoke(\"\"\"I recently upgraded to the Samsung Galaxy S24 Ultra, and I must say, it’s an absolute powerhouse! The Snapdragon 8 Gen 3 processor makes everything lightning fast—whether I’m gaming, multitasking, or editing photos. The 5000mAh battery easily lasts a full day even with heavy use, and the 45W fast charging is a lifesaver.\n",
            "\u001b[0;32m/usr/local/lib/python3.11/dist-packages/langchain_huggingface/chat_models/huggingface.py\u001b[0m in \u001b[0;36mwith_structured_output\u001b[0;34m(self, schema, method, include_raw, **kwargs)\u001b[0m\n\u001b[1;32m    928\u001b[0m             )\n\u001b[1;32m    929\u001b[0m             \u001b[0;32mif\u001b[0m \u001b[0mis_pydantic_schema\u001b[0m\u001b[0;34m:\u001b[0m\u001b[0;34m\u001b[0m\u001b[0;34m\u001b[0m\u001b[0m\n\u001b[0;32m--> 930\u001b[0;31m                 raise NotImplementedError(\n\u001b[0m\u001b[1;32m    931\u001b[0m                     \u001b[0;34m\"Pydantic schema is not supported for function calling\"\u001b[0m\u001b[0;34m\u001b[0m\u001b[0;34m\u001b[0m\u001b[0m\n\u001b[1;32m    932\u001b[0m                 )\n",
            "\u001b[0;31mNotImplementedError\u001b[0m: Pydantic schema is not supported for function calling"
          ]
        }
      ]
    },
    {
      "cell_type": "code",
      "source": [
        "\n",
        "print(result)"
      ],
      "metadata": {
        "id": "yQscTwZLcFod"
      },
      "execution_count": null,
      "outputs": []
    }
  ]
}