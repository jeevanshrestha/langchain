{
  "nbformat": 4,
  "nbformat_minor": 0,
  "metadata": {
    "colab": {
      "provenance": [],
      "authorship_tag": "ABX9TyNq91xiuwjEzHHZMkVP7O67",
      "include_colab_link": true
    },
    "kernelspec": {
      "name": "python3",
      "display_name": "Python 3"
    },
    "language_info": {
      "name": "python"
    }
  },
  "cells": [
    {
      "cell_type": "markdown",
      "metadata": {
        "id": "view-in-github",
        "colab_type": "text"
      },
      "source": [
        "<a href=\"https://colab.research.google.com/github/jeevanshrestha/langchain/blob/main/Langchain_Output_Parsers.ipynb\" target=\"_parent\"><img src=\"https://colab.research.google.com/assets/colab-badge.svg\" alt=\"Open In Colab\"/></a>"
      ]
    },
    {
      "cell_type": "markdown",
      "source": [
        "## Langchain Output Parers"
      ],
      "metadata": {
        "id": "3sNFpkxjO8Jx"
      }
    },
    {
      "cell_type": "markdown",
      "source": [
        "### Initial Setup"
      ],
      "metadata": {
        "id": "_dc1LWznPydS"
      }
    },
    {
      "cell_type": "markdown",
      "source": [
        "#### Install Required Libraries\n"
      ],
      "metadata": {
        "id": "JtMcZrah3tho"
      }
    },
    {
      "cell_type": "code",
      "execution_count": 1,
      "metadata": {
        "id": "81A3knUidnaM",
        "colab": {
          "base_uri": "https://localhost:8080/"
        },
        "outputId": "622d8f03-3aad-42f8-a7f3-77b759625bbc",
        "collapsed": true
      },
      "outputs": [
        {
          "output_type": "stream",
          "name": "stdout",
          "text": [
            "\u001b[?25l     \u001b[90m━━━━━━━━━━━━━━━━━━━━━━━━━━━━━━━━━━━━━━━━\u001b[0m \u001b[32m0.0/981.5 kB\u001b[0m \u001b[31m?\u001b[0m eta \u001b[36m-:--:--\u001b[0m\r\u001b[2K     \u001b[91m━━━━━━━━━━━━━━━\u001b[0m\u001b[91m╸\u001b[0m\u001b[90m━━━━━━━━━━━━━━━━━━━━━━━━\u001b[0m \u001b[32m389.1/981.5 kB\u001b[0m \u001b[31m11.7 MB/s\u001b[0m eta \u001b[36m0:00:01\u001b[0m\r\u001b[2K     \u001b[91m━━━━━━━━━━━━━━━━━━━━━━━━━━━━━━━━━━━━━━━\u001b[0m\u001b[91m╸\u001b[0m \u001b[32m972.8/981.5 kB\u001b[0m \u001b[31m16.0 MB/s\u001b[0m eta \u001b[36m0:00:01\u001b[0m\r\u001b[2K     \u001b[90m━━━━━━━━━━━━━━━━━━━━━━━━━━━━━━━━━━━━━━━━\u001b[0m \u001b[32m981.5/981.5 kB\u001b[0m \u001b[31m10.7 MB/s\u001b[0m eta \u001b[36m0:00:00\u001b[0m\n",
            "\u001b[?25h  Preparing metadata (setup.py) ... \u001b[?25l\u001b[?25hdone\n",
            "\u001b[2K     \u001b[90m━━━━━━━━━━━━━━━━━━━━━━━━━━━━━━━━━━━━━━━━\u001b[0m \u001b[32m68.0/68.0 kB\u001b[0m \u001b[31m2.6 MB/s\u001b[0m eta \u001b[36m0:00:00\u001b[0m\n",
            "\u001b[2K   \u001b[90m━━━━━━━━━━━━━━━━━━━━━━━━━━━━━━━━━━━━━━━━\u001b[0m \u001b[32m2.5/2.5 MB\u001b[0m \u001b[31m39.0 MB/s\u001b[0m eta \u001b[36m0:00:00\u001b[0m\n",
            "\u001b[2K   \u001b[90m━━━━━━━━━━━━━━━━━━━━━━━━━━━━━━━━━━━━━━━━\u001b[0m \u001b[32m1.0/1.0 MB\u001b[0m \u001b[31m34.4 MB/s\u001b[0m eta \u001b[36m0:00:00\u001b[0m\n",
            "\u001b[2K   \u001b[90m━━━━━━━━━━━━━━━━━━━━━━━━━━━━━━━━━━━━━━━━\u001b[0m \u001b[32m65.4/65.4 kB\u001b[0m \u001b[31m3.3 MB/s\u001b[0m eta \u001b[36m0:00:00\u001b[0m\n",
            "\u001b[2K   \u001b[90m━━━━━━━━━━━━━━━━━━━━━━━━━━━━━━━━━━━━━━━━\u001b[0m \u001b[32m734.4/734.4 kB\u001b[0m \u001b[31m28.8 MB/s\u001b[0m eta \u001b[36m0:00:00\u001b[0m\n",
            "\u001b[2K   \u001b[90m━━━━━━━━━━━━━━━━━━━━━━━━━━━━━━━━━━━━━━━━\u001b[0m \u001b[32m1.8/1.8 MB\u001b[0m \u001b[31m44.9 MB/s\u001b[0m eta \u001b[36m0:00:00\u001b[0m\n",
            "\u001b[2K   \u001b[90m━━━━━━━━━━━━━━━━━━━━━━━━━━━━━━━━━━━━━━━━\u001b[0m \u001b[32m31.3/31.3 MB\u001b[0m \u001b[31m39.5 MB/s\u001b[0m eta \u001b[36m0:00:00\u001b[0m\n",
            "\u001b[2K   \u001b[90m━━━━━━━━━━━━━━━━━━━━━━━━━━━━━━━━━━━━━━━━\u001b[0m \u001b[32m514.8/514.8 kB\u001b[0m \u001b[31m16.2 MB/s\u001b[0m eta \u001b[36m0:00:00\u001b[0m\n",
            "\u001b[2K   \u001b[90m━━━━━━━━━━━━━━━━━━━━━━━━━━━━━━━━━━━━━━━━\u001b[0m \u001b[32m438.1/438.1 kB\u001b[0m \u001b[31m11.7 MB/s\u001b[0m eta \u001b[36m0:00:00\u001b[0m\n",
            "\u001b[2K   \u001b[90m━━━━━━━━━━━━━━━━━━━━━━━━━━━━━━━━━━━━━━━━\u001b[0m \u001b[32m363.0/363.0 kB\u001b[0m \u001b[31m12.8 MB/s\u001b[0m eta \u001b[36m0:00:00\u001b[0m\n",
            "\u001b[2K   \u001b[90m━━━━━━━━━━━━━━━━━━━━━━━━━━━━━━━━━━━━━━━━\u001b[0m \u001b[32m44.4/44.4 kB\u001b[0m \u001b[31m1.6 MB/s\u001b[0m eta \u001b[36m0:00:00\u001b[0m\n",
            "\u001b[2K   \u001b[90m━━━━━━━━━━━━━━━━━━━━━━━━━━━━━━━━━━━━━━━━\u001b[0m \u001b[32m1.2/1.2 MB\u001b[0m \u001b[31m24.6 MB/s\u001b[0m eta \u001b[36m0:00:00\u001b[0m\n",
            "\u001b[2K   \u001b[90m━━━━━━━━━━━━━━━━━━━━━━━━━━━━━━━━━━━━━━━━\u001b[0m \u001b[32m590.6/590.6 kB\u001b[0m \u001b[31m28.3 MB/s\u001b[0m eta \u001b[36m0:00:00\u001b[0m\n",
            "\u001b[2K   \u001b[90m━━━━━━━━━━━━━━━━━━━━━━━━━━━━━━━━━━━━━━━━\u001b[0m \u001b[32m167.6/167.6 kB\u001b[0m \u001b[31m8.4 MB/s\u001b[0m eta \u001b[36m0:00:00\u001b[0m\n",
            "\u001b[2K   \u001b[90m━━━━━━━━━━━━━━━━━━━━━━━━━━━━━━━━━━━━━━━━\u001b[0m \u001b[32m3.1/3.1 MB\u001b[0m \u001b[31m49.5 MB/s\u001b[0m eta \u001b[36m0:00:00\u001b[0m\n",
            "\u001b[2K   \u001b[90m━━━━━━━━━━━━━━━━━━━━━━━━━━━━━━━━━━━━━━━━\u001b[0m \u001b[32m195.8/195.8 kB\u001b[0m \u001b[31m13.0 MB/s\u001b[0m eta \u001b[36m0:00:00\u001b[0m\n",
            "\u001b[2K   \u001b[90m━━━━━━━━━━━━━━━━━━━━━━━━━━━━━━━━━━━━━━━━\u001b[0m \u001b[32m444.8/444.8 kB\u001b[0m \u001b[31m24.3 MB/s\u001b[0m eta \u001b[36m0:00:00\u001b[0m\n",
            "\u001b[2K   \u001b[90m━━━━━━━━━━━━━━━━━━━━━━━━━━━━━━━━━━━━━━━━\u001b[0m \u001b[32m2.0/2.0 MB\u001b[0m \u001b[31m57.4 MB/s\u001b[0m eta \u001b[36m0:00:00\u001b[0m\n",
            "\u001b[2K   \u001b[90m━━━━━━━━━━━━━━━━━━━━━━━━━━━━━━━━━━━━━━━━\u001b[0m \u001b[32m3.1/3.1 MB\u001b[0m \u001b[31m65.8 MB/s\u001b[0m eta \u001b[36m0:00:00\u001b[0m\n",
            "\u001b[2K   \u001b[90m━━━━━━━━━━━━━━━━━━━━━━━━━━━━━━━━━━━━━━━━\u001b[0m \u001b[32m50.9/50.9 kB\u001b[0m \u001b[31m3.3 MB/s\u001b[0m eta \u001b[36m0:00:00\u001b[0m\n",
            "\u001b[2K   \u001b[90m━━━━━━━━━━━━━━━━━━━━━━━━━━━━━━━━━━━━━━━━\u001b[0m \u001b[32m304.2/304.2 kB\u001b[0m \u001b[31m19.5 MB/s\u001b[0m eta \u001b[36m0:00:00\u001b[0m\n",
            "\u001b[2K   \u001b[90m━━━━━━━━━━━━━━━━━━━━━━━━━━━━━━━━━━━━━━━━\u001b[0m \u001b[32m114.6/114.6 kB\u001b[0m \u001b[31m8.0 MB/s\u001b[0m eta \u001b[36m0:00:00\u001b[0m\n",
            "\u001b[?25h  Building wheel for langdetect (setup.py) ... \u001b[?25l\u001b[?25hdone\n"
          ]
        }
      ],
      "source": [
        "!pip install openai langchain langchain-community langchain_huggingface langchain-openai unstructured faiss-cpu -q"
      ]
    },
    {
      "cell_type": "markdown",
      "source": [
        "#### Mount Google Driev"
      ],
      "metadata": {
        "id": "7nHczpwv3qjx"
      }
    },
    {
      "cell_type": "code",
      "source": [
        "# Mount Google Drive to access files\n",
        "from google.colab import drive\n",
        "drive.mount('/content/drive')"
      ],
      "metadata": {
        "colab": {
          "base_uri": "https://localhost:8080/"
        },
        "id": "ZdPti1sleYn-",
        "outputId": "b387c4d3-d462-4534-b160-26e28528d10f"
      },
      "execution_count": 2,
      "outputs": [
        {
          "output_type": "stream",
          "name": "stdout",
          "text": [
            "Mounted at /content/drive\n"
          ]
        }
      ]
    },
    {
      "cell_type": "code",
      "execution_count": 3,
      "metadata": {
        "id": "neyTrjSJ3IpB"
      },
      "outputs": [],
      "source": [
        "#set working directory\n",
        "import os\n",
        "os.chdir('/content/drive/MyDrive/GenAI/RAG/')"
      ]
    },
    {
      "cell_type": "markdown",
      "source": [
        "#### OpenAI API Key Setup"
      ],
      "metadata": {
        "id": "ErfzayOVogkP"
      }
    },
    {
      "cell_type": "code",
      "source": [
        "from google.colab import userdata\n",
        "api_key = userdata.get('genai_course')"
      ],
      "metadata": {
        "id": "kgYZyIN6eQ4-"
      },
      "execution_count": 17,
      "outputs": []
    },
    {
      "cell_type": "markdown",
      "source": [
        "#### Import Libraries\n"
      ],
      "metadata": {
        "id": "F5XBRsoQ34NR"
      }
    },
    {
      "cell_type": "code",
      "execution_count": 10,
      "metadata": {
        "id": "m4IOOMEhF2GK"
      },
      "outputs": [],
      "source": [
        "#Import the libraries\n",
        "from langchain_huggingface import ChatHuggingFace, HuggingFaceEndpoint\n",
        "from langchain_core.prompts import PromptTemplate, ChatPromptTemplate\n",
        "from langchain_openai import ChatOpenAI, OpenAIEmbeddings\n",
        "from IPython.display import display, Markdown\n",
        "import json\n",
        "import numpy as np\n",
        "import pandas as pd"
      ]
    },
    {
      "cell_type": "code",
      "source": [
        "print(os.getcwd())"
      ],
      "metadata": {
        "colab": {
          "base_uri": "https://localhost:8080/"
        },
        "id": "cYoBiSuwGanC",
        "outputId": "f702688f-a06e-4186-ae83-2f39592306c0"
      },
      "execution_count": 6,
      "outputs": [
        {
          "output_type": "stream",
          "name": "stdout",
          "text": [
            "/content/drive/MyDrive/GenAI/RAG\n"
          ]
        }
      ]
    },
    {
      "cell_type": "code",
      "source": [],
      "metadata": {
        "id": "ga3cRy1eeMDv"
      },
      "execution_count": null,
      "outputs": []
    },
    {
      "cell_type": "markdown",
      "source": [
        "### String Output Parser"
      ],
      "metadata": {
        "id": "DbgXIbBkePDd"
      }
    },
    {
      "cell_type": "code",
      "source": [
        "from langchain_huggingface import ChatHuggingFace, HuggingFaceEndpoint\n",
        "from dotenv import load_dotenv\n",
        "from langchain_core.prompts import PromptTemplate\n",
        "\n",
        "load_dotenv()\n",
        "\n",
        "llm = HuggingFaceEndpoint(\n",
        "    repo_id=\"google/gemma-2-2b-it\",\n",
        "    task=\"text-generation\"\n",
        ")\n",
        "\n",
        "model = ChatHuggingFace(llm=llm)\n"
      ],
      "metadata": {
        "id": "ZtnJyB4AeRg2"
      },
      "execution_count": 7,
      "outputs": []
    },
    {
      "cell_type": "code",
      "source": [
        "\n",
        "# 1st prompt -> detailed report\n",
        "template1 = PromptTemplate(\n",
        "    template='Write a detailed report on {topic}',\n",
        "    input_variables=['topic']\n",
        ")\n",
        "\n",
        "prompt = template1.invoke({'topic':'black hole'})\n",
        "\n",
        "result = model.invoke(prompt)\n"
      ],
      "metadata": {
        "id": "2rA0N2bbeXgH"
      },
      "execution_count": 9,
      "outputs": []
    },
    {
      "cell_type": "code",
      "source": [
        "display(Markdown(result.content))"
      ],
      "metadata": {
        "colab": {
          "base_uri": "https://localhost:8080/",
          "height": 1000
        },
        "id": "FrMaVn8oe3mD",
        "outputId": "06be3bfb-9f8f-411d-91fa-250a952be04b"
      },
      "execution_count": 11,
      "outputs": [
        {
          "output_type": "display_data",
          "data": {
            "text/plain": [
              "<IPython.core.display.Markdown object>"
            ],
            "text/markdown": "## Black Holes: Cosmic Abyss of Gravity\n\nBlack holes, enigmatic objects lurking at the extreme ends of the universe, have fascinated scientists and the general public alike. They are regions of spacetime where gravity is so intense that nothing, not even light, can escape. This report delves into the nature, formation, properties, and ultimate fate of these intriguing cosmic behemoths.\n\n**I. Defining the Heavenly Beast:**\n\n* **Einstein's Prediction:**  It was Albert Einstein's theory of General Relativity that provided the framework for understanding black holes. His concept of gravity as the curvature of spacetime led to the prediction of objects so massive that their gravitational pull becomes insurmountable, creating a \"singularity\" of infinite density at their core.\n* **Stellar Death:**  Accurately representing the theoretical prediction, black holes are born when massive stars exhaust their nuclear fuel and collapse. The core implodes, triggering a supernova and creating a black hole remnant with a dominant gravitational attraction.\n\n**II. Properties of a Singular Point:**\n\n* **Event Horizon:**  This is the boundary beyond which escape from the area's gravitational pull is impossible.  No physical information or object can ever escape the black hole. \n* **Singularity:**  At the center of a black hole lies the singularity, a point of infinite density and zero size where current scientific theories fail to predict accurately. It is believed to be singular point representing the core of a black hole.\n* **Mass, Angular Momentum, and Electric Charge:** These properties define a black hole and govern its gravitational influence. While black holes do not possess an \"electrical charge\" in the usual sense, a fluctuating electric field can be generated near the event horizon. The angular momentum, related to the spinning field, also influences its pull on surrounding matter.\n\n**III. Types of Black Holes:**\n\n* **Stellar-mass Black Holes:** These are black holes formed from the collapse of massive stars, typically weighing between 3 and 10 times the mass of our Sun.\n* **Supermassive Black Holes:** These are millions or even billions of times more massive than our Sun and reside at the center of most galaxies.  Their nature is debated, but they likely begin their life near the center of massive stars.\n\n**IV. Detection and Observation:**\n\n* **Gravitational Effects:**  Black holes exert a powerful gravitational pull on their surroundings. Their actions can explain unusual motion patterns of other objects, leading to detection of their presence. Highly sensitive gravitational wave detectors, like LIGO and Virgo, have recently detected gravitational waves from merging black holes, offering a glimpse into these cosmic giants.\n* **Spectroscopic Observations:**  By studying the light from stars, gas, and other objects orbiting near a black hole, scientists can detect heat radiation produced by intense gravitational lensing and the stretching of light path due to a distant object. This technique also differentiates readily observable objects and measurements of object motion.\n* **Accretion Disks:**  As matter spirals toward the black hole, it forms an accretion disk. This disk releases intense electromagnetic radiation, including X-rays and optical light, which allows observations of their emissions.\n\n**V. Birth, growth, and life-cycle of a Black Hole:**\n\n* **Growth:** An evolving black hole absorbs surrounding matter through accretion, increasing its mass and gravitational pull. \n* **Orbital Variations:** The relative movements of stars around a super massive black hole can also influence its rotation. This behavior is directly related to the evolution of an object and its rotation dynamics.\n* **Evolution:** Approximately, black holes eventually cool down by emitting radiation known as Hawking Radiation. Hawking radiation is the thermal radiation produced by high-energy particles orbiting around a black hole due to quantum fluctuations.\n\n**VI. Black Holes and Our Universe:**\n\n* **Galactic Center Activity:** Black holes in the centers of galaxies play a crucial role in regulating their formation and evolution. They are thought to be responsible for creating the structure of galaxies through their gravitational pull.\n* **Gravitational Influence:** Black holes are crucial in shaping the structure of the universe, testing the limits of our understanding, and expanding our knowledge to greater depths within its vastness.\n\n**VII. Unraveling the Mysteries:**\n\nDespite advancements in research, black holes present formidable challenges to modern science. Their extreme environments present significant scientific hurdles, hindering our understanding.\n\n* **Information Paradox:** This intriguing paradox grapples with the unclear fate of information that falls into a black hole.  Some physicists argue that certain quantum processes produce information from empty space. \n* **Quantum Mechanics:**  Black holes interact with quantum fluctuations at a level beyond our current comprehension. Reconciling these conflicting approaches is critical for a deeper understanding of black holes.\n* **Wormholes and Extra Dimensions:** The nature of the singularity and how it interacts at the cosmic level are still unclear. Some theories propose that particles and information can wormhole through from the singularity.\n\n\n**Conclusion:**\n\nBlack holes, monstrous and mysterious objects, remain an enigmatic frontier in cosmic exploration. While much remains unknown, ongoing research promises to continue unraveling the secrets of these celestial enigmas, offering a deeper understanding of gravity, the evolution of the universe, and ultimately, the true limits of what comprises the cosmos. \n"
          },
          "metadata": {}
        }
      ]
    },
    {
      "cell_type": "code",
      "source": [
        "\n",
        "# 2nd prompt -> summary\n",
        "template2 = PromptTemplate(\n",
        "    template='Write a 5 line summary on the following text. /n {text}',\n",
        "    input_variables=['text']\n",
        ")\n",
        "prompt2 = template2.invoke({'text':result.content})\n",
        "\n",
        "result2 = model.invoke(prompt2)\n",
        "\n"
      ],
      "metadata": {
        "id": "C2nRhz5SeaOG"
      },
      "execution_count": 12,
      "outputs": []
    },
    {
      "cell_type": "code",
      "source": [
        "display(Markdown(result2.content))"
      ],
      "metadata": {
        "colab": {
          "base_uri": "https://localhost:8080/",
          "height": 248
        },
        "id": "I2H5Ua87e85j",
        "outputId": "912217bd-2d5b-477c-9697-4a8b6ed31cbb"
      },
      "execution_count": 13,
      "outputs": [
        {
          "output_type": "display_data",
          "data": {
            "text/plain": [
              "<IPython.core.display.Markdown object>"
            ],
            "text/markdown": "Here's a 5-line summary focusing on the key points:\n\n1. **Black holes are regions of extreme gravity where nothing, not even light, can escape.** They are formed from the collapse of massive stars and spin rapidly.\n2. **Key properties include a gravitational boundary called the event horizon, a singularity of infinite density, and mass, angular momentum, and electric charge parameters.**\n3. **Black holes are classified into stellar-mass (~3-10 times solar mass) and supermassive (~millions to billions times solar mass) types.**\n4. **Their detection relies on gravitational effects on nearby stars (`Gravitational Effects`), and observations of their accretion disk (`Spectroscopic Observations`).**  \n5. **Black hole research uncovers crucial information about galactic dynamics, gravitational force, and even the behaviour of quantum gravity at the forefront of our Universe.**\n\nThis brief summary avoids complicated terminology while highlighting the essence of Black Hole research. \n"
          },
          "metadata": {}
        }
      ]
    },
    {
      "cell_type": "code",
      "source": [
        "\n",
        "from langchain_core.output_parsers import StrOutputParser\n",
        "\n",
        "load_dotenv()\n",
        "\n",
        "\n",
        "model = ChatOpenAI(api_key=api_key)\n",
        "\n",
        "# 1st prompt -> detailed report\n",
        "template1 = PromptTemplate(\n",
        "    template='Write a detailed report on {topic}',\n",
        "    input_variables=['topic']\n",
        ")\n",
        "\n",
        "# 2nd prompt -> summary\n",
        "template2 = PromptTemplate(\n",
        "    template='Write a 5 line summary on the following text. /n {input}',\n",
        "    input_variables=['input']\n",
        ")\n",
        "\n",
        "parser = StrOutputParser()\n",
        "\n",
        "chain = template1 | model | parser | template2 | model | parser\n",
        "\n",
        "result = chain.invoke({'topic':'black hole'})"
      ],
      "metadata": {
        "id": "Y4iA7YgofFEL"
      },
      "execution_count": 15,
      "outputs": []
    },
    {
      "cell_type": "code",
      "source": [
        "display(Markdown(result))"
      ],
      "metadata": {
        "colab": {
          "base_uri": "https://localhost:8080/",
          "height": 116
        },
        "id": "ZfmbjJCifd6W",
        "outputId": "b076e507-0fb6-484b-fdb3-51263982af07"
      },
      "execution_count": 16,
      "outputs": [
        {
          "output_type": "display_data",
          "data": {
            "text/plain": [
              "<IPython.core.display.Markdown object>"
            ],
            "text/markdown": "Black holes are regions in space with intense gravity, first proposed by John Michell in 1783 and refined by Albert Einstein's theory of general relativity. They form when massive stars collapse, creating singularities with infinite density. There are different types of black holes based on mass and size, from primordial to supermassive. Black holes have intriguing properties such as the event horizon and time dilation, making them compelling subjects of study for astronomers. Detection methods include observing nearby objects and studying radiation emitted by matter falling into black holes. Gravitational waves from black hole collisions provide new opportunities for research and understanding these cosmic wonders."
          },
          "metadata": {}
        }
      ]
    },
    {
      "cell_type": "markdown",
      "source": [
        "### Structured Output Parser"
      ],
      "metadata": {
        "id": "aIZO84JGgEDK"
      }
    },
    {
      "cell_type": "code",
      "source": [
        "\n",
        "from langchain.output_parsers import StructuredOutputParser, ResponseSchema\n",
        "\n",
        "load_dotenv()\n",
        "\n",
        "# Define the model\n",
        "llm = HuggingFaceEndpoint(\n",
        "    repo_id=\"google/gemma-2-2b-it\",\n",
        "    task=\"text-generation\"\n",
        ")\n",
        "\n",
        "model = ChatHuggingFace(llm=llm)\n",
        "\n",
        "schema = [\n",
        "    ResponseSchema(name='fact_1', description='Fact 1 about the topic'),\n",
        "    ResponseSchema(name='fact_2', description='Fact 2 about the topic'),\n",
        "    ResponseSchema(name='fact_3', description='Fact 3 about the topic'),\n",
        "]\n",
        "\n",
        "parser = StructuredOutputParser.from_response_schemas(schema)\n",
        "\n",
        "template = PromptTemplate(\n",
        "    template='Give 3 fact about {topic} \\n {format_instruction}',\n",
        "    input_variables=['topic'],\n",
        "    partial_variables={'format_instruction':parser.get_format_instructions()}\n",
        ")\n",
        "\n",
        "chain = template | model | parser\n",
        "\n",
        "result = chain.invoke({'topic':'black hole'})"
      ],
      "metadata": {
        "id": "glECaSaagF2b"
      },
      "execution_count": 18,
      "outputs": []
    },
    {
      "cell_type": "code",
      "source": [
        "result"
      ],
      "metadata": {
        "colab": {
          "base_uri": "https://localhost:8080/"
        },
        "id": "-2GCorlxgH3Y",
        "outputId": "da293ccb-ac0a-443f-cfda-8363c02e2753"
      },
      "execution_count": 20,
      "outputs": [
        {
          "output_type": "execute_result",
          "data": {
            "text/plain": [
              "{'fact_1': 'Black holes are regions of spacetime where gravity is so strong that nothing, not even light, can escape.',\n",
              " 'fact_2': 'Black holes are formed when massive stars collapse at the end of their lifetime.',\n",
              " 'fact_3': 'The singularity at the center of a black hole is a point of infinite density and zero volume.'}"
            ]
          },
          "metadata": {},
          "execution_count": 20
        }
      ]
    },
    {
      "cell_type": "markdown",
      "source": [
        "### JSON Output Parser"
      ],
      "metadata": {
        "id": "CkV6yycggeax"
      }
    },
    {
      "cell_type": "code",
      "source": [
        "\n",
        "from langchain_core.output_parsers import JsonOutputParser\n",
        "\n",
        "\n",
        "load_dotenv()\n",
        "\n",
        "# Define the model\n",
        "llm = HuggingFaceEndpoint(\n",
        "    repo_id=\"google/gemma-2-2b-it\",\n",
        "    task=\"text-generation\"\n",
        ")\n",
        "\n",
        "model = ChatHuggingFace(llm=llm)\n",
        "\n",
        "parser = JsonOutputParser()\n",
        "\n",
        "template = PromptTemplate(\n",
        "    template='Give me 5 facts about {topic} \\n {format_instruction}',\n",
        "    input_variables=['topic'],\n",
        "    partial_variables={'format_instruction': parser.get_format_instructions()}\n",
        ")\n",
        "\n",
        "chain = template | model | parser\n",
        "\n",
        "result = chain.invoke({'topic':'black hole'})"
      ],
      "metadata": {
        "id": "VYQQFWQ1ghdn"
      },
      "execution_count": 26,
      "outputs": []
    },
    {
      "cell_type": "code",
      "source": [
        "result"
      ],
      "metadata": {
        "colab": {
          "base_uri": "https://localhost:8080/"
        },
        "id": "fYFN_Yphg1aW",
        "outputId": "7659afe3-f1aa-4838-b8a6-36c44e3da051"
      },
      "execution_count": 27,
      "outputs": [
        {
          "output_type": "execute_result",
          "data": {
            "text/plain": [
              "{'facts': ['Black holes are regions in spacetime where gravity is so strong that nothing, not even light, can escape.',\n",
              "  'They have such immense gravity because they are formed from the collapse of massive stars.',\n",
              "  'Black holes can have various sizes, ranging from stellar-mass black holes, formed from the death of a single star, to supermassive black holes found at the centers of galaxies, with billions or even trillions of times the mass of our sun.',\n",
              "  \"Though they can't be observed directly, we detect them by observing how they affect nearby objects, like stars orbiting them or jets of matter emanating from them.\",\n",
              "  'There is much that we still do not know about black holes, including the singularity at their center and the nature of their event horizon.']}"
            ]
          },
          "metadata": {},
          "execution_count": 27
        }
      ]
    },
    {
      "cell_type": "code",
      "source": [],
      "metadata": {
        "id": "ZEse4xYyg2Te"
      },
      "execution_count": null,
      "outputs": []
    },
    {
      "cell_type": "markdown",
      "source": [
        "### Pydantic Output Parser"
      ],
      "metadata": {
        "id": "BHUh8Y73hOde"
      }
    },
    {
      "cell_type": "code",
      "source": [
        "\n",
        "from langchain_core.output_parsers import PydanticOutputParser\n",
        "from pydantic import BaseModel, Field\n",
        "\n",
        "load_dotenv()\n",
        "\n",
        "# Define the model\n",
        "llm = HuggingFaceEndpoint(\n",
        "    repo_id=\"google/gemma-2-2b-it\",\n",
        "    task=\"text-generation\"\n",
        ")\n",
        "\n",
        "model = ChatHuggingFace(llm=llm)\n",
        "\n",
        "class Person(BaseModel):\n",
        "\n",
        "    name: str = Field(description='Name of the person')\n",
        "    age: int = Field(gt=18, description='Age of the person')\n",
        "    city: str = Field(description='Name of the city the person belongs to')\n",
        "\n",
        "parser = PydanticOutputParser(pydantic_object=Person)\n",
        "\n",
        "template = PromptTemplate(\n",
        "    template='Generate the name, age and city of a most popular {place} person \\n {format_instruction}',\n",
        "    input_variables=['place'],\n",
        "    partial_variables={'format_instruction':parser.get_format_instructions()}\n",
        ")\n",
        "\n",
        "chain = template | model | parser\n",
        "\n",
        "final_result = chain.invoke({'place':'Nepal'})"
      ],
      "metadata": {
        "id": "qCtYMQXFhQBV"
      },
      "execution_count": 37,
      "outputs": []
    },
    {
      "cell_type": "code",
      "source": [
        "final_result"
      ],
      "metadata": {
        "colab": {
          "base_uri": "https://localhost:8080/"
        },
        "id": "0B-g7HVghTaR",
        "outputId": "456d255f-04a9-4d8f-9496-23fc618201db"
      },
      "execution_count": 38,
      "outputs": [
        {
          "output_type": "execute_result",
          "data": {
            "text/plain": [
              "Person(name='Nima Tshering Sherpa', age=35, city='Kathmandu')"
            ]
          },
          "metadata": {},
          "execution_count": 38
        }
      ]
    },
    {
      "cell_type": "code",
      "source": [],
      "metadata": {
        "id": "N53yq_ZMhWZ4"
      },
      "execution_count": null,
      "outputs": []
    }
  ]
}